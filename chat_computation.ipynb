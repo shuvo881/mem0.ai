{
 "cells": [
  {
   "cell_type": "code",
   "execution_count": null,
   "metadata": {},
   "outputs": [],
   "source": []
  },
  {
   "cell_type": "code",
   "execution_count": 3,
   "metadata": {},
   "outputs": [
    {
     "data": {
      "text/plain": [
       "ModelResponse(id='chatcmpl-Afr8XUTQ1Iyrsvvw0NdYQMnAHMPnM', created=1734539069, model='gpt-4o-mini-2024-07-18', object='chat.completion', system_fingerprint='fp_6fc10e10eb', choices=[Choices(finish_reason='stop', index=0, message=Message(content=\"It's great that you enjoy Indian food! Since you're allergic to cheese and can't eat pizza, you might want to explore various Indian dishes that don't contain cheese. There are plenty of delicious options to choose from!\", role='assistant', tool_calls=None, function_call=None))], usage=Usage(completion_tokens=41, prompt_tokens=151, total_tokens=192, completion_tokens_details=CompletionTokensDetailsWrapper(accepted_prediction_tokens=0, audio_tokens=0, reasoning_tokens=0, rejected_prediction_tokens=0, text_tokens=None), prompt_tokens_details=PromptTokensDetailsWrapper(audio_tokens=0, cached_tokens=0, text_tokens=None, image_tokens=None)), service_tier=None)"
      ]
     },
     "execution_count": 3,
     "metadata": {},
     "output_type": "execute_result"
    }
   ],
   "source": [
    "from mem0.proxy.main import Mem0\n",
    "from dotenv import load_dotenv\n",
    "import os\n",
    "\n",
    "load_dotenv()\n",
    "\n",
    "\n",
    "client = Mem0(api_key=os.environ[\"MEM0_API_KEY\"])\n",
    "\n",
    "# First interaction: Storing user preferences\n",
    "messages = [\n",
    "  {\n",
    "    \"role\": \"user\",\n",
    "    \"content\": \"I love indian food but I cannot eat pizza since allergic to cheese.\"\n",
    "  },\n",
    "]\n",
    "user_id = \"alice\"\n",
    "chat_completion = client.chat.completions.create(messages=messages, model=\"gpt-4o-mini\", user_id=user_id)\n",
    "# Memory saved after this will look like: \"Loves Indian food. Allergic to cheese and cannot eat pizza.\"\n",
    "\n",
    "\n",
    "chat_completion\n"
   ]
  },
  {
   "cell_type": "code",
   "execution_count": 4,
   "metadata": {},
   "outputs": [
    {
     "name": "stdout",
     "output_type": "stream",
     "text": [
      "Based on your dietary preferences, I recommend restaurants in San Francisco that offer Indian food, as you love it and cannot eat pizza. Here are a few suggestions:\n",
      "\n",
      "1. **Indian Curry** - Known for its wide variety of vegetarian and non-vegetarian Indian dishes.\n",
      "2. **Dosa** - Specializes in South Indian cuisine, offering a range of dosa and vegan options.\n",
      "3. **Biryani House** - Offers flavorful biryanis and other traditional Indian dishes without cheese.\n",
      "4. **Amber India** - A well-regarded spot for a mix of Indian cuisines with many allergen-friendly options.\n",
      "\n",
      "These places should provide delicious meals that suit your tastes!\n"
     ]
    }
   ],
   "source": [
    "\n",
    "# Second interaction: Leveraging stored memory\n",
    "messages = [\n",
    "  {\n",
    "    \"role\": \"user\",\n",
    "    \"content\": \"Suggest restaurants in San Francisco to eat.\",\n",
    "  }\n",
    "]\n",
    "\n",
    "chat_completion = client.chat.completions.create(messages=messages, model=\"gpt-4o-mini\", user_id=user_id)\n",
    "print(chat_completion.choices[0].message.content)\n",
    "# Answer: You might enjoy Indian restaurants in San Francisco, such as Amber India, Dosa, or Curry Up Now, which offer delicious options without cheese."
   ]
  },
  {
   "cell_type": "code",
   "execution_count": null,
   "metadata": {},
   "outputs": [],
   "source": []
  }
 ],
 "metadata": {
  "kernelspec": {
   "display_name": "venv",
   "language": "python",
   "name": "python3"
  },
  "language_info": {
   "codemirror_mode": {
    "name": "ipython",
    "version": 3
   },
   "file_extension": ".py",
   "mimetype": "text/x-python",
   "name": "python",
   "nbconvert_exporter": "python",
   "pygments_lexer": "ipython3",
   "version": "3.12.3"
  }
 },
 "nbformat": 4,
 "nbformat_minor": 2
}
