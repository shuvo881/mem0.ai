{
 "cells": [
  {
   "cell_type": "markdown",
   "metadata": {},
   "source": [
    "# Initialize Mem0"
   ]
  },
  {
   "cell_type": "code",
   "execution_count": null,
   "metadata": {},
   "outputs": [],
   "source": []
  },
  {
   "cell_type": "code",
   "execution_count": 23,
   "metadata": {},
   "outputs": [],
   "source": [
    "from mem0 import Memory\n",
    "\n",
    "config = {\n",
    "    \"vector_store\": {\n",
    "        \"provider\": \"qdrant\",\n",
    "        \"config\": {\n",
    "            \"collection_name\": \"test_collection2\",\n",
    "            \"host\": \"localhost\",\n",
    "            \"port\": 6333,\n",
    "            \"embedding_model_dims\": 768,  # Change this according to your local model's dimensions\n",
    "        },\n",
    "    },\n",
    "    \"llm\": {\n",
    "        \"provider\": \"ollama\",\n",
    "        \"config\": {\n",
    "            \"model\": \"llama3.2:latest\",\n",
    "            \"temperature\": 0,\n",
    "            \"max_tokens\": 8000,\n",
    "            \"ollama_base_url\": \"http://localhost:11434\",  # Ensure this URL is correct\n",
    "        },\n",
    "    },\n",
    "    \"embedder\": {\n",
    "        \"provider\": \"ollama\",\n",
    "        \"config\": {\n",
    "            \"model\": \"nomic-embed-text:latest\",\n",
    "            # Alternatively, you can use \"snowflake-arctic-embed:latest\"\n",
    "            \"ollama_base_url\": \"http://localhost:11434\",\n",
    "        },\n",
    "    },\n",
    "    \"version\": \"v1.1\"\n",
    "}\n",
    "\n",
    "m = Memory.from_config(config)\n"
   ]
  },
  {
   "cell_type": "code",
   "execution_count": 24,
   "metadata": {},
   "outputs": [
    {
     "data": {
      "text/plain": [
       "<mem0.memory.main.Memory at 0x10fe3a7d0>"
      ]
     },
     "execution_count": 24,
     "metadata": {},
     "output_type": "execute_result"
    }
   ],
   "source": [
    "m"
   ]
  },
  {
   "cell_type": "markdown",
   "metadata": {},
   "source": [
    "# Store a Memory"
   ]
  },
  {
   "cell_type": "code",
   "execution_count": 25,
   "metadata": {},
   "outputs": [
    {
     "data": {
      "text/plain": [
       "{'results': [{'id': '2568edc7-a94e-42d4-b1ef-a0b8cadbaf3b',\n",
       "   'memory': 'Name is Alex',\n",
       "   'event': 'ADD'},\n",
       "  {'id': '3a435997-d664-446d-915a-f77937ecf231',\n",
       "   'memory': 'Likes to play cricket on weekends',\n",
       "   'event': 'ADD'}],\n",
       " 'relations': []}"
      ]
     },
     "execution_count": 25,
     "metadata": {},
     "output_type": "execute_result"
    }
   ],
   "source": [
    "# For a user\n",
    "# result = m.add(\"Likes to play cricket on weekends\", user_id=\"alice\", metadata={\"category\": \"hobbies\"},)\n",
    "messages = [\n",
    "   {\"role\": \"user\", \"content\": \"Hi, I'm Alex. I like to play cricket on weekends.\"},\n",
    "   {\"role\": \"assistant\", \"content\": \"Hello Alex! It's great to know that you enjoy playing cricket on weekends. I'll remember that for future reference.\"}\n",
    "]\n",
    "m.add(messages, user_id=\"alice\")\n"
   ]
  },
  {
   "cell_type": "markdown",
   "metadata": {},
   "source": [
    "# Retrieve Memories"
   ]
  },
  {
   "cell_type": "code",
   "execution_count": 26,
   "metadata": {},
   "outputs": [
    {
     "data": {
      "text/plain": [
       "{'results': [{'id': '2568edc7-a94e-42d4-b1ef-a0b8cadbaf3b',\n",
       "   'memory': 'Name is Alex',\n",
       "   'hash': 'd0fccc8fa47f7a149ee95750c37bb0ca',\n",
       "   'metadata': None,\n",
       "   'created_at': '2024-12-17T22:47:22.193579-08:00',\n",
       "   'updated_at': None,\n",
       "   'user_id': 'alice'},\n",
       "  {'id': '3a435997-d664-446d-915a-f77937ecf231',\n",
       "   'memory': 'Likes to play cricket on weekends',\n",
       "   'hash': '285d07801ae42054732314853e9eadd7',\n",
       "   'metadata': None,\n",
       "   'created_at': '2024-12-17T22:47:22.217229-08:00',\n",
       "   'updated_at': None,\n",
       "   'user_id': 'alice'}]}"
      ]
     },
     "execution_count": 26,
     "metadata": {},
     "output_type": "execute_result"
    }
   ],
   "source": [
    "# Get all memories\n",
    "all_memories = m.get_all(user_id=\"alice\")\n",
    "all_memories"
   ]
  },
  {
   "cell_type": "code",
   "execution_count": 27,
   "metadata": {},
   "outputs": [
    {
     "data": {
      "text/plain": [
       "{'id': '2568edc7-a94e-42d4-b1ef-a0b8cadbaf3b',\n",
       " 'memory': 'Name is Alex',\n",
       " 'hash': 'd0fccc8fa47f7a149ee95750c37bb0ca',\n",
       " 'metadata': None,\n",
       " 'created_at': '2024-12-17T22:47:22.193579-08:00',\n",
       " 'updated_at': None,\n",
       " 'user_id': 'alice'}"
      ]
     },
     "execution_count": 27,
     "metadata": {},
     "output_type": "execute_result"
    }
   ],
   "source": [
    "# Get a single memory by ID\n",
    "specific_memory = m.get(all_memories['results'][0]['id'])\n",
    "specific_memory"
   ]
  },
  {
   "cell_type": "markdown",
   "metadata": {},
   "source": [
    "# Search Memories"
   ]
  },
  {
   "cell_type": "code",
   "execution_count": 28,
   "metadata": {},
   "outputs": [
    {
     "data": {
      "text/plain": [
       "{'results': [{'id': '3a435997-d664-446d-915a-f77937ecf231',\n",
       "   'memory': 'Likes to play cricket on weekends',\n",
       "   'hash': '285d07801ae42054732314853e9eadd7',\n",
       "   'metadata': None,\n",
       "   'score': 0.4890973,\n",
       "   'created_at': '2024-12-17T22:47:22.217229-08:00',\n",
       "   'updated_at': None,\n",
       "   'user_id': 'alice'},\n",
       "  {'id': '2568edc7-a94e-42d4-b1ef-a0b8cadbaf3b',\n",
       "   'memory': 'Name is Alex',\n",
       "   'hash': 'd0fccc8fa47f7a149ee95750c37bb0ca',\n",
       "   'metadata': None,\n",
       "   'score': 0.44253835,\n",
       "   'created_at': '2024-12-17T22:47:22.193579-08:00',\n",
       "   'updated_at': None,\n",
       "   'user_id': 'alice'}]}"
      ]
     },
     "execution_count": 28,
     "metadata": {},
     "output_type": "execute_result"
    }
   ],
   "source": [
    "related_memories = m.search(query=\"What are Alice's hobbies?\", user_id=\"alice\")\n",
    "related_memories"
   ]
  },
  {
   "cell_type": "markdown",
   "metadata": {},
   "source": [
    "# Update a Memory"
   ]
  },
  {
   "cell_type": "code",
   "execution_count": 29,
   "metadata": {},
   "outputs": [
    {
     "data": {
      "text/plain": [
       "{'message': 'Memory updated successfully!'}"
      ]
     },
     "execution_count": 29,
     "metadata": {},
     "output_type": "execute_result"
    }
   ],
   "source": [
    "result = m.update(memory_id=related_memories['results'][0]['id'], data=\"Likes to play tennis on weekends\")\n",
    "result"
   ]
  },
  {
   "cell_type": "code",
   "execution_count": 30,
   "metadata": {},
   "outputs": [
    {
     "data": {
      "text/plain": [
       "{'message': 'Memory updated successfully!'}"
      ]
     },
     "execution_count": 30,
     "metadata": {},
     "output_type": "execute_result"
    }
   ],
   "source": [
    "result = m.update(memory_id=related_memories['results'][0]['id'], data=\"Likes to play football on weekends\")\n",
    "result"
   ]
  },
  {
   "cell_type": "markdown",
   "metadata": {},
   "source": [
    "\n",
    "# Memory History"
   ]
  },
  {
   "cell_type": "code",
   "execution_count": 31,
   "metadata": {},
   "outputs": [
    {
     "data": {
      "text/plain": [
       "[{'id': '06dbd7c9-087a-4bfb-bb21-992b058263ec',\n",
       "  'memory_id': '3a435997-d664-446d-915a-f77937ecf231',\n",
       "  'old_memory': None,\n",
       "  'new_memory': 'Likes to play cricket on weekends',\n",
       "  'event': 'ADD',\n",
       "  'created_at': '2024-12-17T22:47:22.217229-08:00',\n",
       "  'updated_at': None},\n",
       " {'id': 'f7e5233b-d6d4-4351-934d-9d1bd1e55e9b',\n",
       "  'memory_id': '3a435997-d664-446d-915a-f77937ecf231',\n",
       "  'old_memory': 'Likes to play cricket on weekends',\n",
       "  'new_memory': 'Likes to play tennis on weekends',\n",
       "  'event': 'UPDATE',\n",
       "  'created_at': '2024-12-17T22:47:22.217229-08:00',\n",
       "  'updated_at': '2024-12-17T22:47:22.391794-08:00'},\n",
       " {'id': '0441c341-8919-4e84-9c87-bd14e1489a3c',\n",
       "  'memory_id': '3a435997-d664-446d-915a-f77937ecf231',\n",
       "  'old_memory': 'Likes to play tennis on weekends',\n",
       "  'new_memory': 'Likes to play football on weekends',\n",
       "  'event': 'UPDATE',\n",
       "  'created_at': '2024-12-17T22:47:22.217229-08:00',\n",
       "  'updated_at': '2024-12-17T22:47:22.425331-08:00'}]"
      ]
     },
     "execution_count": 31,
     "metadata": {},
     "output_type": "execute_result"
    }
   ],
   "source": [
    "history = m.history(memory_id=related_memories['results'][0]['id'])\n",
    "history"
   ]
  },
  {
   "cell_type": "markdown",
   "metadata": {},
   "source": [
    "# Again Search Memories"
   ]
  },
  {
   "cell_type": "code",
   "execution_count": 32,
   "metadata": {},
   "outputs": [
    {
     "data": {
      "text/plain": [
       "{'results': [{'id': '3a435997-d664-446d-915a-f77937ecf231',\n",
       "   'memory': 'Likes to play football on weekends',\n",
       "   'hash': 'fc01282d6153e65cf86a90103a8bdf52',\n",
       "   'metadata': None,\n",
       "   'score': 0.48046514,\n",
       "   'created_at': '2024-12-17T22:47:22.217229-08:00',\n",
       "   'updated_at': '2024-12-17T22:47:22.425331-08:00',\n",
       "   'user_id': 'alice'},\n",
       "  {'id': '2568edc7-a94e-42d4-b1ef-a0b8cadbaf3b',\n",
       "   'memory': 'Name is Alex',\n",
       "   'hash': 'd0fccc8fa47f7a149ee95750c37bb0ca',\n",
       "   'metadata': None,\n",
       "   'score': 0.44253835,\n",
       "   'created_at': '2024-12-17T22:47:22.193579-08:00',\n",
       "   'updated_at': None,\n",
       "   'user_id': 'alice'}]}"
      ]
     },
     "execution_count": 32,
     "metadata": {},
     "output_type": "execute_result"
    }
   ],
   "source": [
    "related_memories = m.search(query=\"What are Alice's hobbies?\", user_id=\"alice\")\n",
    "related_memories"
   ]
  },
  {
   "cell_type": "markdown",
   "metadata": {},
   "source": [
    "# Delete Memory"
   ]
  },
  {
   "cell_type": "code",
   "execution_count": 33,
   "metadata": {},
   "outputs": [
    {
     "data": {
      "text/plain": [
       "{'message': 'Memories deleted successfully!'}"
      ]
     },
     "execution_count": 33,
     "metadata": {},
     "output_type": "execute_result"
    }
   ],
   "source": [
    "# Delete a memory by id\n",
    "m.delete(memory_id=related_memories['results'][0]['id'])\n",
    "# Delete all memories for a user\n",
    "m.delete_all(user_id=\"alice\")\n"
   ]
  },
  {
   "cell_type": "markdown",
   "metadata": {},
   "source": [
    "# Reset Memory\n"
   ]
  },
  {
   "cell_type": "code",
   "execution_count": 34,
   "metadata": {},
   "outputs": [
    {
     "name": "stderr",
     "output_type": "stream",
     "text": [
      "WARNING:mem0.memory.main:Resetting all memories\n"
     ]
    }
   ],
   "source": [
    "m.reset() # Reset all memories"
   ]
  },
  {
   "cell_type": "code",
   "execution_count": null,
   "metadata": {},
   "outputs": [],
   "source": []
  }
 ],
 "metadata": {
  "kernelspec": {
   "display_name": "venv",
   "language": "python",
   "name": "python3"
  },
  "language_info": {
   "codemirror_mode": {
    "name": "ipython",
    "version": 3
   },
   "file_extension": ".py",
   "mimetype": "text/x-python",
   "name": "python",
   "nbconvert_exporter": "python",
   "pygments_lexer": "ipython3",
   "version": "3.12.3"
  }
 },
 "nbformat": 4,
 "nbformat_minor": 2
}
