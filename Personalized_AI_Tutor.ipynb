{
 "cells": [
  {
   "cell_type": "code",
   "execution_count": 11,
   "metadata": {},
   "outputs": [],
   "source": [
    "from openai import OpenAI\n",
    "from mem0 import Memory\n",
    "import os\n",
    "# Initialize the OpenAI client\n",
    "client = OpenAI()"
   ]
  },
  {
   "cell_type": "code",
   "execution_count": 18,
   "metadata": {},
   "outputs": [
    {
     "name": "stderr",
     "output_type": "stream",
     "text": [
      "/var/folders/6g/nvcnf9x92dd1gvw_gx4z4pvm0000gn/T/ipykernel_26028/1427663092.py:43: DeprecationWarning: The current add API output format is deprecated. To use the latest format, set `api_version='v1.1'`. The current format will be removed in mem0ai 1.1.0 and later versions.\n",
      "  self.memory.add(question, user_id=user_id, metadata={\"app_id\": self.app_id})\n"
     ]
    },
    {
     "name": "stdout",
     "output_type": "stream",
     "text": [
      "A queue in computer science is a type of data structure that stores elements in a sequence, similar to how a queue or line in the real world works. It follows a specific order in which operations are performed: First in, First out (FIFO). This means that elements that are added first are the ones that get removed first.\n",
      "\n",
      "Two primary operations are associated with a queue:\n",
      "\n",
      "1. Enqueue: This operation adds an element to the end of the queue.\n",
      "2. Dequeue: This operation removes an element from the front of the queue.\n",
      "\n",
      "Queues are used in various computing situations. For example, when data is transferred asynchronously (data not necessarily received at same rate as sent) between two processes, queues are used to store the data. They're also used in breadth-first searching and in handling requests for shared resources such as printers, disks, CPUs, etc."
     ]
    }
   ],
   "source": [
    "\n",
    "\n",
    "# Initialize the OpenAI client\n",
    "client = OpenAI(api_key=os.getenv('OPENAI_API_KEY'))\n",
    "\n",
    "class PersonalAITutor:\n",
    "    def __init__(self):\n",
    "        \"\"\"\n",
    "        Initialize the PersonalAITutor with memory configuration and OpenAI client.\n",
    "        \"\"\"\n",
    "        config = {\n",
    "            \"vector_store\": {\n",
    "                \"provider\": \"qdrant\",\n",
    "                \"config\": {\n",
    "                    \"host\": \"localhost\",\n",
    "                    \"port\": 6333,\n",
    "                }\n",
    "            },\n",
    "        }\n",
    "        self.memory = Memory.from_config(config)\n",
    "        self.client = client\n",
    "        self.app_id = \"app-1\"\n",
    "\n",
    "    def ask(self, question, user_id=None):\n",
    "        \"\"\"\n",
    "        Ask a question to the AI and store the relevant facts in memory\n",
    "\n",
    "        :param question: The question to ask the AI.\n",
    "        :param user_id: Optional user ID to associate with the memory.\n",
    "        \"\"\"\n",
    "        # Start a streaming chat completion request to the AI\n",
    "        stream = self.client.chat.completions.create(\n",
    "            model=\"gpt-4\",\n",
    "            stream=True,\n",
    "            messages=[\n",
    "                {\"role\": \"system\", \"content\": \"You are a personal AI Tutor.\"},\n",
    "                {\"role\": \"user\", \"content\": question}\n",
    "            ]\n",
    "        )\n",
    "        # Store the question in memory\n",
    "        self.memory.add(question, user_id=user_id, metadata={\"app_id\": self.app_id})\n",
    "\n",
    "        # Print the response from the AI in real-time\n",
    "        for chunk in stream:\n",
    "            if chunk.choices[0].delta.content is not None:\n",
    "                print(chunk.choices[0].delta.content, end=\"\")\n",
    "\n",
    "    def get_memories(self, user_id=None):\n",
    "        \"\"\"\n",
    "        Retrieve all memories associated with the given user ID.\n",
    "\n",
    "        :param user_id: Optional user ID to filter memories.\n",
    "        :return: List of memories.\n",
    "        \"\"\"\n",
    "        return self.memory.get_all(user_id=user_id)\n",
    "\n",
    "# Instantiate the PersonalAITutor\n",
    "ai_tutor = PersonalAITutor()\n",
    "\n",
    "# Define a user ID\n",
    "user_id = \"john_doe\"\n",
    "\n",
    "# Ask a question\n",
    "ai_tutor.ask(\"I am learning introduction to CS. What is queue? Briefly explain.\", user_id=user_id)\n"
   ]
  },
  {
   "cell_type": "code",
   "execution_count": null,
   "metadata": {},
   "outputs": [],
   "source": []
  },
  {
   "cell_type": "code",
   "execution_count": null,
   "metadata": {},
   "outputs": [],
   "source": []
  }
 ],
 "metadata": {
  "kernelspec": {
   "display_name": "venv",
   "language": "python",
   "name": "python3"
  },
  "language_info": {
   "codemirror_mode": {
    "name": "ipython",
    "version": 3
   },
   "file_extension": ".py",
   "mimetype": "text/x-python",
   "name": "python",
   "nbconvert_exporter": "python",
   "pygments_lexer": "ipython3",
   "version": "3.11.0"
  }
 },
 "nbformat": 4,
 "nbformat_minor": 2
}
