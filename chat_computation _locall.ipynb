{
 "cells": [
  {
   "cell_type": "code",
   "execution_count": null,
   "metadata": {},
   "outputs": [],
   "source": []
  },
  {
   "cell_type": "code",
   "execution_count": null,
   "metadata": {},
   "outputs": [
    {
     "data": {
      "text/plain": [
       "ModelResponse(id='chatcmpl-1194202f-8ef2-4123-ada1-40afd68026fb', created=1734541053, model='ollama/llama3.2', object='chat.completion', system_fingerprint=None, choices=[Choices(finish_reason='stop', index=0, message=Message(content=\"You can still enjoy Indian food without eating pizza. Many popular Indian dishes don't include cheese, such as biryani, naan, tandoori chicken, and curries like chicken tikka masala or palak paneer without paneer (cheese). You can also opt for cheese-free versions of these dishes or try other unique Indian recipes that are cheese-free.\", role='assistant', tool_calls=None, function_call=None))], usage=Usage(completion_tokens=77, prompt_tokens=159, total_tokens=236, completion_tokens_details=None, prompt_tokens_details=None))"
      ]
     },
     "execution_count": 7,
     "metadata": {},
     "output_type": "execute_result"
    },
    {
     "name": "stderr",
     "output_type": "stream",
     "text": [
      "ERROR:root:Error in new_memories_with_actions: 'event'\n",
      "ERROR:root:Error in new_memories_with_actions: 'event'\n"
     ]
    }
   ],
   "source": [
    "from mem0.proxy.main import Mem0\n",
    "from dotenv import load_dotenv\n",
    "import os\n",
    "\n",
    "load_dotenv()\n",
    "\n",
    "\n",
    "config = {\n",
    "    \"vector_store\": {\n",
    "        \"provider\": \"qdrant\",\n",
    "        \"config\": {\n",
    "            \"collection_name\": \"test_collection2\",\n",
    "            \"host\": \"localhost\",\n",
    "            \"port\": 6333,\n",
    "            \"embedding_model_dims\": 768,  # Change this according to your local model's dimensions\n",
    "        },\n",
    "    },\n",
    "    \"llm\": {\n",
    "        \"provider\": \"ollama\",\n",
    "        \"config\": {\n",
    "            \"model\": \"llama3.2:latest\",\n",
    "            \"temperature\": 0,\n",
    "            \"max_tokens\": 8000,\n",
    "            \"ollama_base_url\": \"http://localhost:11434\",  # Ensure this URL is correct\n",
    "        },\n",
    "    },\n",
    "    \"embedder\": {\n",
    "        \"provider\": \"ollama\",\n",
    "        \"config\": {\n",
    "            \"model\": \"nomic-embed-text:latest\",\n",
    "            # Alternatively, you can use \"snowflake-arctic-embed:latest\"\n",
    "            \"ollama_base_url\": \"http://localhost:11434\",\n",
    "        },\n",
    "    },\n",
    "    \"version\": \"v1.1\"\n",
    "}\n",
    "\n",
    "\n",
    "\n",
    "client = Mem0(config=config)\n",
    "\n",
    "# First interaction: Storing user preferences\n",
    "messages = [\n",
    "  {\n",
    "    \"role\": \"user\",\n",
    "    \"content\": \"I love indian food but I cannot eat pizza since allergic to cheese.\"\n",
    "  },\n",
    "]\n",
    "user_id = \"alice\"\n",
    "chat_completion = client.chat.completions.create(messages=messages, model=\"ollama/llama3.2\", user_id=user_id)\n",
    "# Memory saved after this will look like: \"Loves Indian food. Allergic to cheese and cannot eat pizza.\"\n",
    "\n",
    "\n",
    "chat_completion\n"
   ]
  },
  {
   "cell_type": "code",
   "execution_count": 8,
   "metadata": {},
   "outputs": [
    {
     "name": "stdout",
     "output_type": "stream",
     "text": [
      "San Francisco offers a variety of excellent dining options. Some popular restaurants you might consider include:\n",
      "\n",
      "1. Zuni Café - known for its roasted chicken and seasonal Mediterranean dishes.\n",
      "2. Fisherman's Wharf - featuring seafood spots like Alioto's and Fog Harbor Fish House.\n",
      "3. Tartine Bakery - famous for its pastries and artisan bread.\n",
      "4. The Slanted Door - offers modern Vietnamese cuisine with waterfront views.\n",
      "5. Sotto Mare - highly recommended for its clam chowder and fresh seafood.\n",
      "\n",
      "Be sure to check for current hours and availability!\n"
     ]
    }
   ],
   "source": [
    "\n",
    "# Second interaction: Leveraging stored memory\n",
    "messages = [\n",
    "  {\n",
    "    \"role\": \"user\",\n",
    "    \"content\": \"Suggest restaurants in San Francisco to eat.\",\n",
    "  }\n",
    "]\n",
    "\n",
    "chat_completion = client.chat.completions.create(messages=messages, model=\"gpt-4o-mini\", user_id=user_id)\n",
    "print(chat_completion.choices[0].message.content)\n",
    "# Answer: You might enjoy Indian restaurants in San Francisco, such as Amber India, Dosa, or Curry Up Now, which offer delicious options without cheese."
   ]
  },
  {
   "cell_type": "code",
   "execution_count": null,
   "metadata": {},
   "outputs": [],
   "source": []
  }
 ],
 "metadata": {
  "kernelspec": {
   "display_name": "venv",
   "language": "python",
   "name": "python3"
  },
  "language_info": {
   "codemirror_mode": {
    "name": "ipython",
    "version": 3
   },
   "file_extension": ".py",
   "mimetype": "text/x-python",
   "name": "python",
   "nbconvert_exporter": "python",
   "pygments_lexer": "ipython3",
   "version": "3.12.3"
  }
 },
 "nbformat": 4,
 "nbformat_minor": 2
}
